{
 "cells": [
  {
   "cell_type": "code",
   "execution_count": 64,
   "metadata": {},
   "outputs": [
    {
     "name": "stderr",
     "output_type": "stream",
     "text": [
      "C:\\Users\\afasa\\AppData\\Local\\Temp\\ipykernel_20652\\1261751788.py:17: DeprecationWarning: executable_path has been deprecated, please pass in a Service object\n",
      "  driver = webdriver.Edge(PATH, options=headless)\n"
     ]
    }
   ],
   "source": [
    "try:\n",
    "    # IMPORT LIBRARY\n",
    "    from selenium import webdriver\n",
    "except:\n",
    "    %pip install -r requirements.txt\n",
    "finally:\n",
    "    # IMPORT LIBRARY\n",
    "    from selenium import webdriver\n",
    "    from selenium.webdriver.common.by import By\n",
    "    from selenium.webdriver.edge.options import Options\n",
    "\n",
    "    PATH = 'msedgedriver.exe'\n",
    "    headless = Options()\n",
    "    headless.add_argument('--headless')\n",
    "\n",
    "    # Call Webdriver\n",
    "    driver = webdriver.Edge(PATH, options=headless)"
   ]
  },
  {
   "cell_type": "code",
   "execution_count": 65,
   "metadata": {},
   "outputs": [],
   "source": [
    "# def Student_Class and Show_info\n",
    "\n",
    "class Student:\n",
    "    def __init__(self, std_id:str, std_pswd:str):\n",
    "        ''' ID and PASSWORD for login to SIS website '''\n",
    "        self.id = std_id\n",
    "        self.pswd = std_pswd\n",
    "        print('Setting ID and Password are done.')\n",
    "        \n",
    "    def get_info(self):\n",
    "        def sis():\n",
    "            # Login to get SIS Info ==============\n",
    "            driver.get('https://sis-hatyai1.psu.ac.th/Student/StudentSISInfo.aspx')\n",
    "            \n",
    "            if driver.title == 'ข้อมูลนักศึกษา':\n",
    "                print('Already login to SIS')\n",
    "            else:\n",
    "                driver.find_element(By.ID, 'userNameInput').send_keys(self.id)\n",
    "                driver.find_element(By.ID, 'passwordInput').send_keys(self.pswd)\n",
    "                driver.find_element(By.CLASS_NAME, 'submit').click()\n",
    "            \n",
    "            # GET DATA\n",
    "            return driver.find_element(By.XPATH, '//*[@id=\"aspnetForm\"]/table[2]/tbody/tr[2]/td[3]/table[2]').text.split('\\n')\n",
    "        def trans():\n",
    "            # Login to Transcript\n",
    "            driver.get('https://transcript.psu.ac.th/main')\n",
    "            \n",
    "            if driver.title == 'TRANSCRIPT PSU':\n",
    "                print('Already login to Transcript')\n",
    "            else:\n",
    "                driver.find_element(By.NAME, 'username').send_keys(self.id)\n",
    "                driver.find_element(By.NAME, 'password').send_keys(self.pswd)\n",
    "                driver.find_element(By.TAG_NAME, 'button').click()\n",
    "            \n",
    "            # GET DATA\n",
    "            return driver.find_elements(By.TAG_NAME, 'a')[12:26]\n",
    "        \n",
    "        general_info = sis()\n",
    "        transcript = trans()\n",
    "        \n",
    "        self.info = {\n",
    "            'my_info':{\n",
    "                'id':general_info[1][13:],\n",
    "                'fname':general_info[3][15:],\n",
    "                'branch':transcript[1].text, # 'branch':general_info[4][9:],\n",
    "                'faculty':transcript[0].text, # 'faculty':general_info[8][4:],\n",
    "                'current_degree':' '.join(general_info[10].split(' ')[1:]),\n",
    "            },\n",
    "            'advisor':{\n",
    "                'fname': general_info[13][8:]\n",
    "            },\n",
    "            'transcript':{\n",
    "                # [Activities, Current hour, Target hour]\n",
    "                'Y1':[transcript[2].text.split(' ')[0], transcript[3].text.split(' | ')[0], transcript[3].text.split(' | ')[1].split(' ')[0]],\n",
    "                'Y2':[transcript[4].text.split(' ')[0], transcript[5].text.split(' | ')[0], transcript[5].text.split(' | ')[1].split(' ')[0]],\n",
    "                'Y3':[transcript[6].text.split(' ')[0], transcript[7].text.split(' | ')[0], transcript[7].text.split(' | ')[1].split(' ')[0]],\n",
    "                'Y4':[transcript[8].text.split(' ')[0], transcript[9].text.split(' | ')[0], transcript[9].text.split(' | ')[1].split(' ')[0]],\n",
    "                'Optional':[transcript[10].text.split(' ')[0], transcript[11].text.split(' | ')[0], transcript[11].text.split(' | ')[1].split(' ')[0]],\n",
    "\n",
    "                # [Activities, Summary hr]\n",
    "                'SUM':[transcript[-2].text.split(' ')[0], transcript[-1].text.split(' ')[0]]\n",
    "            }\n",
    "        }\n",
    "        print('Succeed by get info')\n",
    "    \n",
    "    # NEW\n",
    "    def print(self, type:str = 'help'):\n",
    "        if type == 'help':\n",
    "            print('''\n",
    "                  info: Return general info by string\n",
    "                  advisor: Return advisor name by string\n",
    "                  transcript: Return general info by string\n",
    "                  ''')\n",
    "        else:\n",
    "            for elem in self['type']:\n",
    "                print(elem)\n",
    "\n",
    "def show_info(std:Student):\n",
    "    for elem in std.info.items():\n",
    "        for ele in elem:\n",
    "            if type(ele) == dict:\n",
    "                for e in ele.items():\n",
    "                    print(': '.join(str(e)[1:-1].replace('\\'', '').split(',')))\n",
    "            else: \n",
    "                if ele == 'transcript':\n",
    "                    break\n",
    "                else: print(f'\\n{ele}')\n",
    "    \n",
    "    print('\\ntranscript')\n",
    "    for elem in std.info['transcript']:\n",
    "        detail = std.info['transcript'][elem]\n",
    "        if detail.__len__ == 3:\n",
    "            print(f'{elem}', f'{int(detail[1])}/{int(detail[2])} ชั่วโมง ({int(detail[0])} กิจกรรม)', sep=': ')\n",
    "        else: print(f'{elem}', f'{int(detail[1])} ชั่วโมง ({int(detail[0])} กิจกรรม)', sep=': ')"
   ]
  },
  {
   "cell_type": "code",
   "execution_count": 66,
   "metadata": {},
   "outputs": [
    {
     "name": "stdout",
     "output_type": "stream",
     "text": [
      "Setting ID and Password are done.\n",
      "Succeed by get info\n"
     ]
    }
   ],
   "source": [
    "## GET INFO\n",
    "std = Student(input('Enter Student ID: '), input('Enter SIS Password: '))\n",
    "std.get_info()"
   ]
  },
  {
   "cell_type": "code",
   "execution_count": 67,
   "metadata": {},
   "outputs": [
    {
     "name": "stdout",
     "output_type": "stream",
     "text": [
      "\n",
      "my_info\n",
      "id:  6410712071\n",
      "fname:  อัฟฟาน กาเส็มสัน\n",
      "branch:  การบริบาลทางเภสัชกรรม\n",
      "faculty:  คณะเภสัชศาสตร์\n",
      "current_degree:  ปริญญาตรี ภาคปกติ\n",
      "\n",
      "advisor\n",
      "fname:  PIMPIMON TANSAKUL\n",
      "\n",
      "transcript\n",
      "Y1: 13 ชั่วโมง (5 กิจกรรม)\n",
      "Y2: 0 ชั่วโมง (0 กิจกรรม)\n",
      "Y3: 0 ชั่วโมง (0 กิจกรรม)\n",
      "Y4: 0 ชั่วโมง (0 กิจกรรม)\n",
      "Optional: 55 ชั่วโมง (16 กิจกรรม)\n",
      "SUM: 68 ชั่วโมง (21 กิจกรรม)\n"
     ]
    }
   ],
   "source": [
    "show_info(std)\n",
    "driver.quit()"
   ]
  }
 ],
 "metadata": {
  "interpreter": {
   "hash": "da66fae509b5e1b7d1c40c05f1ad0cd738b802758ff9dedaf4ebcd87b5855e37"
  },
  "kernelspec": {
   "display_name": "Python 3.10.4 64-bit (windows store)",
   "language": "python",
   "name": "python3"
  },
  "language_info": {
   "codemirror_mode": {
    "name": "ipython",
    "version": 3
   },
   "file_extension": ".py",
   "mimetype": "text/x-python",
   "name": "python",
   "nbconvert_exporter": "python",
   "pygments_lexer": "ipython3",
   "version": "3.10.4"
  },
  "orig_nbformat": 4
 },
 "nbformat": 4,
 "nbformat_minor": 2
}
